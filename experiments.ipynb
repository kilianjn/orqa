{
 "cells": [
  {
   "cell_type": "code",
   "execution_count": 1,
   "metadata": {},
   "outputs": [
    {
     "name": "stdout",
     "output_type": "stream",
     "text": [
      "/var/folders/xm/kl4mdl493rz1q7zv25p_911c0000gn/T/tmp6clm6x_y\n"
     ]
    }
   ],
   "source": [
    "import tempfile\n",
    "\n",
    "temp_dir = tempfile.TemporaryDirectory()\n",
    "print(temp_dir.name)\n",
    "# use temp_dir, and when done:\n",
    "temp_dir.cleanup()\n"
   ]
  },
  {
   "cell_type": "code",
   "execution_count": 11,
   "metadata": {},
   "outputs": [
    {
     "data": {
      "text/plain": [
       "(27, 64, 64)"
      ]
     },
     "execution_count": 11,
     "metadata": {},
     "output_type": "execute_result"
    }
   ],
   "source": [
    "import pydicom\n",
    "import numpy as np\n",
    "\n",
    "data = pydicom.dcmread(scanner.sel_dcmfiles[\"1\"][0])\n",
    "\n",
    "data.pixel_array"
   ]
  },
  {
   "cell_type": "code",
   "execution_count": null,
   "metadata": {},
   "outputs": [
    {
     "ename": "FileNotFoundError",
     "evalue": "[Errno 2] No such file or directory: '/Volumes/KINGSTON/glover7T/GloverPhantom24112023_2023.11.24-14_18_42-STD-1.3.12.2.1107.5.99.3_20000101/head_library_20231124_141954.600000/ep2d_bold_2001_MR/1.dcm'",
     "output_type": "error",
     "traceback": [
      "\u001b[0;31m---------------------------------------------------------------------------\u001b[0m",
      "\u001b[0;31mFileNotFoundError\u001b[0m                         Traceback (most recent call last)",
      "\u001b[1;32m/Users/rameshjain/Documents/Studium/M. Sc. Masteruppsats/Code/QAPackage/experiments.ipynb Cell 2\u001b[0m line \u001b[0;36m1\n\u001b[1;32m      <a href='vscode-notebook-cell:/Users/rameshjain/Documents/Studium/M.%20Sc.%20Masteruppsats/Code/QAPackage/experiments.ipynb#X22sZmlsZQ%3D%3D?line=8'>9</a>\u001b[0m     folder_path \u001b[39m=\u001b[39m \u001b[39mf\u001b[39m\u001b[39m\"\u001b[39m\u001b[39m/Volumes/KINGSTON/glover7T/GloverPhantom24112023_2023.11.24-14_18_42-STD-1.3.12.2.1107.5.99.3_20000101/head_library_20231124_141954.600000/ep2d_bold_\u001b[39m\u001b[39m{\u001b[39;00mi\u001b[39m}\u001b[39;00m\u001b[39m_MR/\u001b[39m\u001b[39m{\u001b[39;00mDCMFILE\u001b[39m}\u001b[39;00m\u001b[39m.dcm\u001b[39m\u001b[39m\"\u001b[39m\n\u001b[1;32m     <a href='vscode-notebook-cell:/Users/rameshjain/Documents/Studium/M.%20Sc.%20Masteruppsats/Code/QAPackage/experiments.ipynb#X22sZmlsZQ%3D%3D?line=9'>10</a>\u001b[0m \u001b[39m# ds = dcmread('/Users/rameshjain/Documents/Studium/M. Sc. Masteruppsats/Code/Data/23102614/55050000/33318659')\u001b[39;00m\n\u001b[0;32m---> <a href='vscode-notebook-cell:/Users/rameshjain/Documents/Studium/M.%20Sc.%20Masteruppsats/Code/QAPackage/experiments.ipynb#X22sZmlsZQ%3D%3D?line=10'>11</a>\u001b[0m     ds \u001b[39m=\u001b[39m dcmread(folder_path)\n\u001b[1;32m     <a href='vscode-notebook-cell:/Users/rameshjain/Documents/Studium/M.%20Sc.%20Masteruppsats/Code/QAPackage/experiments.ipynb#X22sZmlsZQ%3D%3D?line=11'>12</a>\u001b[0m     \u001b[39mprint\u001b[39m(ds[key])\n\u001b[1;32m     <a href='vscode-notebook-cell:/Users/rameshjain/Documents/Studium/M.%20Sc.%20Masteruppsats/Code/QAPackage/experiments.ipynb#X22sZmlsZQ%3D%3D?line=13'>14</a>\u001b[0m \u001b[39mprint\u001b[39m(\u001b[39m\"\u001b[39m\u001b[39m\\n\u001b[39;00m\u001b[39mnext...\u001b[39m\u001b[39m\\n\u001b[39;00m\u001b[39m\"\u001b[39m)\n",
      "File \u001b[0;32m~/miniconda3/envs/karo/lib/python3.11/site-packages/pydicom/filereader.py:1002\u001b[0m, in \u001b[0;36mdcmread\u001b[0;34m(fp, defer_size, stop_before_pixels, force, specific_tags)\u001b[0m\n\u001b[1;32m   1000\u001b[0m     caller_owns_file \u001b[39m=\u001b[39m \u001b[39mFalse\u001b[39;00m\n\u001b[1;32m   1001\u001b[0m     logger\u001b[39m.\u001b[39mdebug(\u001b[39m\"\u001b[39m\u001b[39mReading file \u001b[39m\u001b[39m'\u001b[39m\u001b[39m{0}\u001b[39;00m\u001b[39m'\u001b[39m\u001b[39m\"\u001b[39m\u001b[39m.\u001b[39mformat(fp))\n\u001b[0;32m-> 1002\u001b[0m     fp \u001b[39m=\u001b[39m \u001b[39mopen\u001b[39m(fp, \u001b[39m'\u001b[39m\u001b[39mrb\u001b[39m\u001b[39m'\u001b[39m)\n\u001b[1;32m   1003\u001b[0m \u001b[39melif\u001b[39;00m fp \u001b[39mis\u001b[39;00m \u001b[39mNone\u001b[39;00m \u001b[39mor\u001b[39;00m \u001b[39mnot\u001b[39;00m \u001b[39mhasattr\u001b[39m(fp, \u001b[39m\"\u001b[39m\u001b[39mread\u001b[39m\u001b[39m\"\u001b[39m) \u001b[39mor\u001b[39;00m \u001b[39mnot\u001b[39;00m \u001b[39mhasattr\u001b[39m(fp, \u001b[39m\"\u001b[39m\u001b[39mseek\u001b[39m\u001b[39m\"\u001b[39m):\n\u001b[1;32m   1004\u001b[0m     \u001b[39mraise\u001b[39;00m \u001b[39mTypeError\u001b[39;00m(\u001b[39m\"\u001b[39m\u001b[39mdcmread: Expected a file path or a file-like, \u001b[39m\u001b[39m\"\u001b[39m\n\u001b[1;32m   1005\u001b[0m                     \u001b[39m\"\u001b[39m\u001b[39mbut got \u001b[39m\u001b[39m\"\u001b[39m \u001b[39m+\u001b[39m \u001b[39mtype\u001b[39m(fp)\u001b[39m.\u001b[39m\u001b[39m__name__\u001b[39m)\n",
      "\u001b[0;31mFileNotFoundError\u001b[0m: [Errno 2] No such file or directory: '/Volumes/KINGSTON/glover7T/GloverPhantom24112023_2023.11.24-14_18_42-STD-1.3.12.2.1107.5.99.3_20000101/head_library_20231124_141954.600000/ep2d_bold_2001_MR/1.dcm'"
     ]
    }
   ],
   "source": [
    "from pydicom import dcmread\n",
    "\n",
    "FOLDER = 2003\n",
    "DCMFILE = 1\n",
    "\n",
    "key = '00080031'\n",
    "for i in [2001,2002,2003]:\n",
    "\n",
    "    folder_path = f\"/Volumes/KINGSTON/glover7T/GloverPhantom24112023_2023.11.24-14_18_42-STD-1.3.12.2.1107.5.99.3_20000101/head_library_20231124_141954.600000/ep2d_bold_{i}_MR/{DCMFILE}.dcm\"\n",
    "# ds = dcmread('/Users/rameshjain/Documents/Studium/M. Sc. Masteruppsats/Code/Data/23102614/55050000/33318659')\n",
    "    ds = dcmread(folder_path)\n",
    "    print(ds[key])\n",
    "\n",
    "print(\"\\nnext...\\n\")\n",
    "\n",
    "\n",
    "for i in [3001,3002,3003]:\n",
    "\n",
    "    folder_path = f\"/Volumes/KINGSTON/glover7T/GloverPhantom24112023_2023.11.24-14_18_42-STD-1.3.12.2.1107.5.99.3_20000101/head_library_20231124_141954.600000/ep2d_bold_valSel_{i}_MR/{DCMFILE}.dcm\"\n",
    "# ds = dcmread('/Users/rameshjain/Documents/Studium/M. Sc. Masteruppsats/Code/Data/23102614/55050000/33318659')\n",
    "    ds = dcmread(folder_path)\n",
    "    print(ds[key])\n",
    "\n"
   ]
  },
  {
   "cell_type": "code",
   "execution_count": null,
   "metadata": {},
   "outputs": [
    {
     "data": {
      "text/plain": [
       "Dataset.file_meta -------------------------------\n",
       "(0002, 0000) File Meta Information Group Length  UL: 190\n",
       "(0002, 0001) File Meta Information Version       OB: b'\\x00\\x01'\n",
       "(0002, 0002) Media Storage SOP Class UID         UI: MR Image Storage\n",
       "(0002, 0003) Media Storage SOP Instance UID      UI: 1.3.12.2.1107.5.2.61.237005.30000023112415140023600000126\n",
       "(0002, 0010) Transfer Syntax UID                 UI: Explicit VR Little Endian\n",
       "(0002, 0012) Implementation Class UID            UI: 1.3.12.2.1107.5.2\n",
       "(0002, 0013) Implementation Version Name         SH: 'SYNGO_MR_XA60A'\n",
       "-------------------------------------------------\n",
       "(0008, 0005) Specific Character Set              CS: 'ISO_IR 100'\n",
       "(0008, 0008) Image Type                          CS: ['ORIGINAL', 'PRIMARY', 'M', 'DIS2D', 'MFSPLIT']\n",
       "(0008, 0012) Instance Creation Date              DA: '20231124'\n",
       "(0008, 0013) Instance Creation Time              TM: '143031.600000'\n",
       "(0008, 0016) SOP Class UID                       UI: MR Image Storage\n",
       "(0008, 0018) SOP Instance UID                    UI: 1.3.12.2.1107.5.2.61.237005.30000023112415140023600000126\n",
       "(0008, 0020) Study Date                          DA: '20231124'\n",
       "(0008, 0021) Series Date                         DA: '20231124'\n",
       "(0008, 0022) Acquisition Date                    DA: '20231124'\n",
       "(0008, 0023) Content Date                        DA: '20231124'\n",
       "(0008, 002a) Acquisition DateTime                DT: '20231124143031.600000'\n",
       "(0008, 0030) Study Time                          TM: '141954.600000'\n",
       "(0008, 0031) Series Time                         TM: '143027.829000'\n",
       "(0008, 0032) Acquisition Time                    TM: '143031.600000'\n",
       "(0008, 0033) Content Time                        TM: '143033.583000'\n",
       "(0008, 0050) Accession Number                    SH: ''\n",
       "(0008, 0060) Modality                            CS: 'MR'\n",
       "(0008, 0070) Manufacturer                        LO: 'Siemens Healthineers'\n",
       "(0008, 0080) Institution Name                    LO: 'Karolinska Huddinge MR2'\n",
       "(0008, 0081) Institution Address                 ST: 'Hälsovägen 9,Huddinge,,SE,14186'\n",
       "(0008, 0090) Referring Physician's Name          PN: ''\n",
       "(0008, 1010) Station Name                        SH: 'K2D8SMR309'\n",
       "(0008, 1030) Study Description                   LO: 'head library'\n",
       "(0008, 103e) Series Description                  LO: 'ep2d_bold'\n",
       "(0008, 1040) Institutional Department Name       LO: 'Karolinska Huddinge MR2'\n",
       "(0008, 1070) Operators' Name                     PN: ''\n",
       "(0008, 1090) Manufacturer's Model Name           LO: 'MAGNETOM Terra.X'\n",
       "(0008, 1250)  Related Series Sequence  1 item(s) ---- \n",
       "   (0008, 1140)  Referenced Image Sequence  1 item(s) ---- \n",
       "      (0008, 1150) Referenced SOP Class UID            UI: Enhanced MR Image Storage\n",
       "      (0008, 1155) Referenced SOP Instance UID         UI: 1.3.12.2.1107.5.2.61.237005.2023112414303165135200183\n",
       "      (0008, 1160) Referenced Frame Number             IS: '1'\n",
       "      ---------\n",
       "   (0020, 000d) Study Instance UID                  UI: 1.3.12.2.1107.5.2.61.237005.30000023112414064398400000003\n",
       "   (0020, 000e) Series Instance UID                 UI: 1.3.12.2.1107.5.2.61.237005.2023112414302201025800066.0.0.0\n",
       "   (0040, a170)  Purpose of Reference Code Sequence  1 item(s) ---- \n",
       "      (0008, 0100) Code Value                          SH: '121326'\n",
       "      (0008, 0102) Coding Scheme Designator            SH: 'DCM'\n",
       "      (0008, 0104) Code Meaning                        LO: 'Alternate SOP Class instance'\n",
       "      ---------\n",
       "   ---------\n",
       "(0008, 9206) Volumetric Properties               CS: 'VOLUME'\n",
       "(0010, 0010) Patient's Name                      PN: 'GloverPhantom24112023'\n",
       "(0010, 0020) Patient ID                          LO: '2023.11.24-14:18:42-STD-1.3.12.2.1107.5.99.3'\n",
       "(0010, 0021) Issuer of Patient ID                LO: ''\n",
       "(0010, 0030) Patient's Birth Date                DA: '20000101'\n",
       "(0010, 0040) Patient's Sex                       CS: 'M'\n",
       "(0010, 1010) Patient's Age                       AS: '023Y'\n",
       "(0010, 1020) Patient's Size                      DS: '1.8'\n",
       "(0010, 1030) Patient's Weight                    DS: '150.0'\n",
       "(0012, 0062) Patient Identity Removed            CS: 'NO'\n",
       "(0018, 0010) Contrast/Bolus Agent                LO: ''\n",
       "(0018, 0015) Body Part Examined                  CS: 'BRAIN'\n",
       "(0018, 0020) Scanning Sequence                   CS: ['GR', 'EP']\n",
       "(0018, 0021) Sequence Variant                    CS: 'SK'\n",
       "(0018, 0022) Scan Options                        CS: 'PER'\n",
       "(0018, 0023) MR Acquisition Type                 CS: '2D'\n",
       "(0018, 0024) Sequence Name                       SH: '*epfid2d1_64'\n",
       "(0018, 0025) Angio Flag                          CS: 'N'\n",
       "(0018, 0050) Slice Thickness                     DS: '4.0'\n",
       "(0018, 0080) Repetition Time                     DS: '2000.0'\n",
       "(0018, 0081) Echo Time                           DS: '30.0'\n",
       "(0018, 0082) Inversion Time                      DS: None\n",
       "(0018, 0083) Number of Averages                  DS: '1.0'\n",
       "(0018, 0084) Imaging Frequency                   DS: '297.243825'\n",
       "(0018, 0085) Imaged Nucleus                      SH: '1H'\n",
       "(0018, 0086) Echo Number(s)                      IS: '1'\n",
       "(0018, 0087) Magnetic Field Strength             DS: '7.0'\n",
       "(0018, 0088) Spacing Between Slices              DS: '5.0'\n",
       "(0018, 0089) Number of Phase Encoding Steps      IS: '64'\n",
       "(0018, 0091) Echo Train Length                   IS: '64'\n",
       "(0018, 0093) Percent Sampling                    DS: '100.0'\n",
       "(0018, 0094) Percent Phase Field of View         DS: '100.0'\n",
       "(0018, 0095) Pixel Bandwidth                     DS: '1563.0'\n",
       "(0018, 1000) Device Serial Number                LO: '237005'\n",
       "(0018, 1020) Software Versions                   LO: 'syngo MR XA60'\n",
       "(0018, 1030) Protocol Name                       LO: 'ep2d_bold'\n",
       "(0018, 1060) Trigger Time                        DS: None\n",
       "(0018, 1080) Beat Rejection Flag                 CS: 'N'\n",
       "(0018, 1090) Cardiac Number of Images            IS: '1'\n",
       "(0018, 1250) Receive Coil Name                   SH: '8Tx32Rx_Head_C'\n",
       "(0018, 1251) Transmit Coil Name                  SH: '8Tx32Rx_Head_C'\n",
       "(0018, 1310) Acquisition Matrix                  US: [64, 0, 0, 64]\n",
       "(0018, 1312) In-plane Phase Encoding Direction   CS: 'COL'\n",
       "(0018, 1314) Flip Angle                          DS: '90.0'\n",
       "(0018, 1315) Variable Flip Angle Flag            CS: 'N'\n",
       "(0018, 1316) SAR                                 DS: '0.01270059075686'\n",
       "(0018, 1320) B1rms                               FL: -9999.0\n",
       "(0018, 5100) Patient Position                    CS: 'HFS'\n",
       "(0018, 9004) Content Qualification               CS: 'PRODUCT'\n",
       "(0020, 000d) Study Instance UID                  UI: 1.3.12.2.1107.5.2.61.237005.30000023112414064398400000003\n",
       "(0020, 000e) Series Instance UID                 UI: 1.3.12.2.1107.5.2.61.237005.30000023112415140023600000124\n",
       "(0020, 0010) Study ID                            SH: '1b94f107-a690-43'\n",
       "(0020, 0011) Series Number                       IS: '2003'\n",
       "(0020, 0012) Acquisition Number                  IS: '3'\n",
       "(0020, 0013) Instance Number                     IS: '1'\n",
       "(0020, 0032) Image Position (Patient)            DS: [-110, -110, -65]\n",
       "(0020, 0037) Image Orientation (Patient)         DS: [1, 0, 0, 0, 1, 0]\n",
       "(0020, 0052) Frame of Reference UID              UI: 1.3.12.2.1107.5.2.61.237005.2.20231124141955568.0.0.0\n",
       "(0020, 0105) Number of Temporal Positions        IS: '200'\n",
       "(0020, 1040) Position Reference Indicator        LO: ''\n",
       "(0020, 1041) Slice Location                      DS: '-65.0'\n",
       "(0020, 9172)  Conversion Source Attributes Sequence  1 item(s) ---- \n",
       "   (0008, 1150) Referenced SOP Class UID            UI: Enhanced MR Image Storage\n",
       "   (0008, 1155) Referenced SOP Instance UID         UI: 1.3.12.2.1107.5.2.61.237005.2023112414303165135200183\n",
       "   (0008, 1160) Referenced Frame Number             IS: '1'\n",
       "   ---------\n",
       "(0021, 0010) Private Creator                     LO: 'SIEMENS MR SDS 01'\n",
       "(0021, 0011) Private Creator                     LO: 'SIEMENS MR SDI 02'\n",
       "(0021, 0012) Private Creator                     LO: 'SIEMENS MR SDR 01'\n",
       "(0021, 1001) Private tag data                    IS: '150'\n",
       "(0021, 1004) Private tag data                    DS: '1.0'\n",
       "(0021, 1005) Private tag data                    IS: [0, 0, 0]\n",
       "(0021, 1006) Private tag data                    LO: 'void'\n",
       "(0021, 1008) Private tag data                    SH: 'Fast'\n",
       "(0021, 100a) Private tag data                    DS: '1.0'\n",
       "(0021, 100c) Private tag data                    SH: '+LPH'\n",
       "(0021, 100d) Private tag data                    US: 0\n",
       "(0021, 100f) Private tag data                    DS: [33.3421, 32.0231, 28.843]\n",
       "(0021, 1010) Private tag data                    IS: '66010002'\n",
       "(0021, 1011) Private tag data                    DS: '0.0'\n",
       "(0021, 1012) Private tag data                    FD: 2.0\n",
       "(0021, 1013) Private tag data                    DS: '0.0'\n",
       "(0021, 1014) Private tag data                    IS: '0'\n",
       "(0021, 1016) Private tag data                    DS: '0.0'\n",
       "(0021, 1017) Private tag data                    DS: '0.0'\n",
       "(0021, 1018) Private tag data                    SH: 'Local'\n",
       "(0021, 1019) Private tag data                    OB: Array of 116494 elements\n",
       "(0021, 101b) Private tag data                    DS: '1.0'\n",
       "(0021, 101c) Private tag data                    DS: [7.78471, 0, 21.0254]\n",
       "(0021, 101d) Private tag data                    IS: '3'\n",
       "(0021, 1022) Private tag data                    SH: 'SIEMENS'\n",
       "(0021, 1023) Private tag data                    IS: '0'\n",
       "(0021, 1025) Private tag data                    SL: [0, 0, -2349]\n",
       "(0021, 1026) Private tag data                    IS: Array of 38 elements\n",
       "(0021, 1027) Private tag data                    US: 1\n",
       "(0021, 102a) Private tag data                    IS: [238, 57, 58, 59, 60, 61, 238, 238, 238, 238, 238]\n",
       "(0021, 102b) Private tag data                    ST: '1;HFS;150;;M;0;3;161051517'\n",
       "(0021, 102c) Private tag data                    DS: [14400, 5.25551, -1]\n",
       "(0021, 102d) Private tag data                    DS: [10, 2.62383, -1]\n",
       "(0021, 102e) Private tag data                    IS: '4'\n",
       "(0021, 102f) Private tag data                    DS: [34, 32, 29]\n",
       "(0021, 1030) Private tag data                    DS: '0.0'\n",
       "(0021, 1031) Private tag data                    IS: '-2349'\n",
       "(0021, 1032) Private tag data                    SS: 0\n",
       "(0021, 1033) Private tag data                    SH: 'SC72CD'\n",
       "(0021, 1034) Private tag data                    DS: '1.0'\n",
       "(0021, 1035) Private tag data                    DS: '0.76544'\n",
       "(0021, 1036) Private tag data                    DS: '0.0'\n",
       "(0021, 1038) Private tag data                    DS: '228.757'\n",
       "(0021, 103b) Private tag data                    DS: '0.0'\n",
       "(0021, 103d) Private tag data                    CS: 'NONE'\n",
       "(0021, 1044) Private tag data                    DS: [-9999, -9999]\n",
       "(0021, 1045) Private tag data                    CS: 'NO'\n",
       "(0021, 1046) Private tag data                    DS: '998.025'\n",
       "(0021, 1047) Private tag data                    CS: 'IEC'\n",
       "(0021, 1048) Private tag data                    CS: 'FMRI'\n",
       "(0021, 1049) Private tag data                    CS: 'UNKNOWN'\n",
       "(0021, 1050) Private tag data                    US: 0\n",
       "(0021, 1051) Private tag data                    US: 64\n",
       "(0021, 1053) Private tag data                    CS: 'U'\n",
       "(0021, 105d) Private tag data                    SL: 0\n",
       "(0021, 105e) Private tag data                    LO: 'FoV 220*220'\n",
       "(0021, 105f) Private tag data                    SH: 'TP 0'\n",
       "(0021, 1060) Private tag data                    DT: '20231124143023.030647'\n",
       "(0021, 1061) Private tag data                    SH: '0'\n",
       "(0021, 1062) Private tag data                    FL: 144.0919952392578\n",
       "(0021, 1103) Private tag data                    DS: '404000.0'\n",
       "(0021, 1104) Private tag data                    DS: '4.0'\n",
       "(0021, 1106) Private tag data                    LO: 'X_1_1_1_3_1_1_1_1_1_1_1_15'\n",
       "(0021, 111a) Private tag data                    SH: 'predicted'\n",
       "(0021, 111c) Private tag data                    IS: '1'\n",
       "(0021, 1124) Private tag data                    IS: '0'\n",
       "(0021, 1133) Private tag data                    IS: '32'\n",
       "(0021, 1141) Private tag data                    SH: 'predicted'\n",
       "(0021, 1142) Private tag data                    IS: '5000'\n",
       "(0021, 1145) Private tag data                    SL: [0, 0, -2349]\n",
       "(0021, 1148) Private tag data                    IS: '32'\n",
       "(0021, 1149) Private tag data                    IS: '32'\n",
       "(0021, 114f) Private tag data                    LO: 'AC'\n",
       "(0021, 1151) Private tag data                    UL: 134217728\n",
       "(0021, 1153) Private tag data                    FD: 22.321\n",
       "(0021, 1158) Private tag data                    SH: '64*64'\n",
       "(0021, 1159) Private tag data                    IS: [0, 0, 0]\n",
       "(0021, 115b) Private tag data                    FD: [-110.0, -110.0, -65.0]\n",
       "(0021, 115e) Private tag data                    IS: '0'\n",
       "(0021, 1171) Private tag data                    UT: Array of 32 elements\n",
       "(0021, 1175) Private tag data                    CS: ['ORIGINAL', 'PRIMARY', 'FMRI', 'NONE']\n",
       "(0021, 1176) Private tag data                    LO: ['ChannelMixing:ND=true_CMM=1_CDM=1', 'CC:SoS']\n",
       "(0021, 1177) Private tag data                    LO: '*epfid2d1_64'\n",
       "(0021, 1178) Private tag data                    CS: 'DIS2D'\n",
       "(0021, 1179) Private tag data                    CS: 'DIS2D'\n",
       "(0021, 1188) Private tag data                    DS: '-65.0'\n",
       "(0021, 118a) Private tag data                    IS: '55'\n",
       "(0021, 118e) Private tag data                    ST: 'X_1_1_1_3_1_1_1_1_1_1_1_15_1_1_1_1_200_2_1_27_1_1'\n",
       "(0021, 1201) Private tag data                    LO: 'ACQUISITION'\n",
       "(0021, 1202) Private tag data                    LO: 'ACQUISITION'\n",
       "(0028, 0002) Samples per Pixel                   US: 1\n",
       "(0028, 0004) Photometric Interpretation          CS: 'MONOCHROME2'\n",
       "(0028, 0010) Rows                                US: 64\n",
       "(0028, 0011) Columns                             US: 64\n",
       "(0028, 0030) Pixel Spacing                       DS: [3.4375, 3.4375]\n",
       "(0028, 0100) Bits Allocated                      US: 16\n",
       "(0028, 0101) Bits Stored                         US: 12\n",
       "(0028, 0102) High Bit                            US: 11\n",
       "(0028, 0103) Pixel Representation                US: 0\n",
       "(0028, 0106) Smallest Image Pixel Value          US: 0\n",
       "(0028, 0107) Largest Image Pixel Value           US: 3110\n",
       "(0028, 0301) Burned In Annotation                CS: 'NO'\n",
       "(0028, 1050) Window Center                       DS: '270.0'\n",
       "(0028, 1051) Window Width                        DS: '597.0'\n",
       "(0028, 1052) Rescale Intercept                   DS: '0.0'\n",
       "(0028, 1053) Rescale Slope                       DS: '1.0'\n",
       "(0028, 2110) Lossy Image Compression             CS: '00'\n",
       "(0040, 0244) Performed Procedure Step Start Date DA: '20231124'\n",
       "(0040, 0245) Performed Procedure Step Start Time TM: '141954.600000'\n",
       "(0040, 0253) Performed Procedure Step ID         SH: 'SI2872a42cef164e'\n",
       "(0040, 0254) Performed Procedure Step Descriptio LO: 'head library'\n",
       "(0051, 0010) Private Creator                     LO: 'SIEMENS MR HEADER'\n",
       "(0051, 1008) [CSA Image Header Type]             CS: 'IMAGE NUM X'\n",
       "(0051, 1009) [CSA Image Header Version ??]       LO: '1.0'\n",
       "(0051, 100a) [Unknown]                           LO: 'TA: 06:44'\n",
       "(0051, 100c) [Unknown]                           LO: 'FoV 220*220'\n",
       "(0051, 100d) [Unknown]                           SH: 'SP F65.0'\n",
       "(0051, 1012) [Unknown]                           SH: 'TP 0'\n",
       "(0051, 1013) [PositivePCSDirections]             SH: '+LPH'\n",
       "(2050, 0020) Presentation LUT Shape              CS: 'IDENTITY'\n",
       "(7fe0, 0010) Pixel Data                          OW: Array of 8192 elements"
      ]
     },
     "execution_count": 48,
     "metadata": {},
     "output_type": "execute_result"
    }
   ],
   "source": [
    "folder_path = f\"/Volumes/KINGSTON/glover7T/GloverPhantom24112023_2023.11.24-14_18_42-STD-1.3.12.2.1107.5.99.3_20000101/head_library_20231124_141954.600000/ep2d_bold_{FOLDER}_MR/{DCMFILE}.dcm\"\n",
    "ds = dcmread(folder_path)\n",
    "ds"
   ]
  },
  {
   "cell_type": "code",
   "execution_count": 4,
   "metadata": {},
   "outputs": [],
   "source": [
    "try:\n",
    "    print(hallo)\n",
    "    print(3)\n",
    "except NameError:\n",
    "    pass"
   ]
  },
  {
   "cell_type": "code",
   "execution_count": 21,
   "metadata": {},
   "outputs": [],
   "source": [
    "import numpy as np\n",
    "a = np.array([[1, 2, 0],\n",
    "              [5, 3, 0],\n",
    "              [0, 0, 0]])\n",
    "k = np.array([[1,1,1],\n",
    "              [1,1,0],\n",
    "              [1,0,0]])"
   ]
  },
  {
   "cell_type": "code",
   "execution_count": 20,
   "metadata": {},
   "outputs": [
    {
     "data": {
      "text/plain": [
       "array([[11, 10,  3],\n",
       "       [10,  3,  0],\n",
       "       [ 3,  0,  0]])"
      ]
     },
     "execution_count": 20,
     "metadata": {},
     "output_type": "execute_result"
    }
   ],
   "source": [
    "from scipy import ndimage\n",
    "ndimage.convolve(a, k, mode='constant', cval=0.0)\n"
   ]
  },
  {
   "cell_type": "code",
   "execution_count": 1,
   "metadata": {},
   "outputs": [
    {
     "data": {
      "text/plain": [
       "<matplotlib.collections.PathCollection at 0x11ea61310>"
      ]
     },
     "execution_count": 1,
     "metadata": {},
     "output_type": "execute_result"
    },
    {
     "data": {
      "image/png": "[encoded data removed]",
      "text/plain": [
       "<Figure size 640x480 with 1 Axes>"
      ]
     },
     "metadata": {},
     "output_type": "display_data"
    }
   ],
   "source": [
    "import matplotlib.pyplot as plt\n",
    "plt.scatter(1,1)"
   ]
  }
 ],
 "metadata": {
  "kernelspec": {
   "display_name": "karo",
   "language": "python",
   "name": "python3"
  },
  "language_info": {
   "codemirror_mode": {
    "name": "ipython",
    "version": 3
   },
   "file_extension": ".py",
   "mimetype": "text/x-python",
   "name": "python",
   "nbconvert_exporter": "python",
   "pygments_lexer": "ipython3",
   "version": "3.11.5"
  }
 },
 "nbformat": 4,
 "nbformat_minor": 2
}
